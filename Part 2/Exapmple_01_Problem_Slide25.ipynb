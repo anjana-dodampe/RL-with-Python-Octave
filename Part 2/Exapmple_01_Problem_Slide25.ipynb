{
 "cells": [
  {
   "cell_type": "code",
   "execution_count": 7,
   "metadata": {},
   "outputs": [
    {
     "name": "stdout",
     "output_type": "stream",
     "text": [
      "Trained Q matrix (Before Normalization):\n",
      "[[  0.           0.           0.           0.         399.96427035\n",
      "    0.        ]\n",
      " [  0.           0.           0.         319.96427035   0.\n",
      "  499.96427035]\n",
      " [  0.           0.           0.         319.97141628   0.\n",
      "    0.        ]\n",
      " [  0.         399.96427035 255.97713302   0.         399.96427035\n",
      "    0.        ]\n",
      " [319.96427035   0.           0.         319.97141628   0.\n",
      "  499.95533794]\n",
      " [  0.         399.96427035   0.           0.         399.96427035\n",
      "  499.95533794]]\n"
     ]
    }
   ],
   "source": [
    "import numpy as np\n",
    "import pylab as plt\n",
    "\n",
    "R = np.matrix([ [-1,-1,-1,-1,0,-1],\n",
    "\t\t[-1,-1,-1,0,-1,100],\n",
    "\t\t[-1,-1,-1,0,-1,-1],\n",
    "\t\t[-1,0,0,-1,0,-1],\n",
    "\t\t[0,-1,-1,0,-1,100],\n",
    "\t\t[-1,0,-1,-1,0,100] ])\n",
    "\n",
    "# Q matrix\n",
    "Q = np.matrix(np.zeros([6,6]))\n",
    "\n",
    "# Gamma (learning parameter).\n",
    "gamma = 0.8\n",
    "\n",
    "# Initial state. (Usually to be chosen at random)\n",
    "initial_state = 0\n",
    "\n",
    "# This function returns all available actions in the state given as an argument\n",
    "def available_actions(state):\n",
    "    current_state_row = R[state,]\n",
    "    av_act = np.where(current_state_row >= 0)[1]\n",
    "    return av_act\n",
    "\n",
    "# Get available actions in the current state\n",
    "available_act = available_actions(initial_state) \n",
    "\n",
    "# This function chooses at random which action to be performed within the range \n",
    "# of all the available actions.\n",
    "def sample_next_action(available_actions_range):\n",
    "    next_action = int(np.random.choice(available_act,1))\n",
    "    return next_action\n",
    "\n",
    "# Sample next action to be performed\n",
    "action = sample_next_action(available_act)\n",
    "\n",
    "def update(current_state, action, gamma):\n",
    "    \n",
    "    max_index = np.where(Q[action,] == np.max(Q[action,]))[1]\n",
    "\n",
    "    if max_index.shape[0] > 1:\n",
    "        max_index = int(np.random.choice(max_index, size = 1))\n",
    "    else:\n",
    "        max_index = int(max_index)\n",
    "    max_value = Q[action, max_index]\n",
    "    \n",
    "    # Q learning formula\n",
    "    Q[current_state, action] = R[current_state, action] + gamma * max_value\n",
    "\n",
    "# Training\n",
    "\n",
    "# Train over 10 000 iterations. (Re-iterate the process above).\n",
    "for i in range(1000):\n",
    "    current_state = np.random.randint(0, int(Q.shape[0]))\n",
    "    available_act = available_actions(current_state)\n",
    "    action = sample_next_action(available_act)\n",
    "    update(current_state,action,gamma)\n",
    "    \n",
    "# Normalize the \"trained\" Q matrix\n",
    "print(\"Trained Q matrix (Before Normalization):\")\n",
    "print(Q)\n",
    "\n",
    "print(\"Trained Q matrix (After Normalization):\")\n",
    "print(Q/np.max(Q)*100)"
   ]
  },
  {
   "cell_type": "code",
   "execution_count": 8,
   "metadata": {},
   "outputs": [
    {
     "name": "stdout",
     "output_type": "stream",
     "text": [
      "Trained Q matrix (After Normalization):\n",
      "[[  0.           0.           0.           0.          79.99857071\n",
      "    0.        ]\n",
      " [  0.           0.           0.          63.99742728   0.\n",
      "  100.        ]\n",
      " [  0.           0.           0.          63.99885657   0.\n",
      "    0.        ]\n",
      " [  0.          79.99857071  51.19908526   0.          79.99857071\n",
      "    0.        ]\n",
      " [ 63.99742728   0.           0.          63.99885657   0.\n",
      "   99.99821339]\n",
      " [  0.          79.99857071   0.           0.          79.99857071\n",
      "   99.99821339]]\n"
     ]
    }
   ],
   "source": [
    "print(\"Trained Q matrix (After Normalization):\")\n",
    "print(Q/np.max(Q)*100)"
   ]
  },
  {
   "cell_type": "code",
   "execution_count": null,
   "metadata": {},
   "outputs": [],
   "source": []
  }
 ],
 "metadata": {
  "kernelspec": {
   "display_name": "Python 3",
   "language": "python",
   "name": "python3"
  },
  "language_info": {
   "codemirror_mode": {
    "name": "ipython",
    "version": 3
   },
   "file_extension": ".py",
   "mimetype": "text/x-python",
   "name": "python",
   "nbconvert_exporter": "python",
   "pygments_lexer": "ipython3",
   "version": "3.8.3"
  }
 },
 "nbformat": 4,
 "nbformat_minor": 4
}
